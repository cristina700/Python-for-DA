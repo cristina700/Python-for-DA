{
 "cells": [
  {
   "cell_type": "code",
   "execution_count": null,
   "id": "f6914ec8",
   "metadata": {},
   "outputs": [],
   "source": [
    "123\n",
    "\n",
    "#title"
   ]
  },
  {
   "cell_type": "code",
   "execution_count": null,
   "id": "04082aa4",
   "metadata": {},
   "outputs": [],
   "source": []
  },
  {
   "cell_type": "code",
   "execution_count": null,
   "id": "d64ef85f",
   "metadata": {},
   "outputs": [],
   "source": []
  },
  {
   "cell_type": "code",
   "execution_count": null,
   "id": "1e6abc25",
   "metadata": {},
   "outputs": [],
   "source": []
  },
  {
   "cell_type": "code",
   "execution_count": null,
   "id": "cea09e6d",
   "metadata": {},
   "outputs": [],
   "source": []
  },
  {
   "cell_type": "markdown",
   "id": "55ab46f4",
   "metadata": {},
   "source": [
    "# 1Title"
   ]
  },
  {
   "cell_type": "markdown",
   "id": "3e8cca66",
   "metadata": {},
   "source": [
    "## Subtitle"
   ]
  },
  {
   "cell_type": "code",
   "execution_count": null,
   "id": "45611f8e",
   "metadata": {},
   "outputs": [],
   "source": [
    "#printing hello world\n",
    "print(\"Hello world\")"
   ]
  },
  {
   "cell_type": "raw",
   "id": "c7298362",
   "metadata": {},
   "source": [
    "9999"
   ]
  },
  {
   "cell_type": "markdown",
   "id": "680bb31c",
   "metadata": {},
   "source": [
    "# 2 Data"
   ]
  },
  {
   "cell_type": "code",
   "execution_count": null,
   "id": "1234273f",
   "metadata": {},
   "outputs": [],
   "source": [
    "type(1)\n"
   ]
  },
  {
   "cell_type": "code",
   "execution_count": null,
   "id": "11680163",
   "metadata": {},
   "outputs": [],
   "source": [
    "type(2.4)"
   ]
  },
  {
   "cell_type": "code",
   "execution_count": null,
   "id": "7912c922",
   "metadata": {},
   "outputs": [],
   "source": [
    "type(\"jgiyf\")"
   ]
  },
  {
   "cell_type": "code",
   "execution_count": null,
   "id": "f7804571",
   "metadata": {},
   "outputs": [],
   "source": [
    "type(strdTIUJ)"
   ]
  },
  {
   "cell_type": "code",
   "execution_count": null,
   "id": "230920cf",
   "metadata": {},
   "outputs": [],
   "source": [
    "2+5\n"
   ]
  },
  {
   "cell_type": "code",
   "execution_count": null,
   "id": "97077534",
   "metadata": {},
   "outputs": [],
   "source": [
    "90-20"
   ]
  },
  {
   "cell_type": "code",
   "execution_count": null,
   "id": "01ba529f",
   "metadata": {},
   "outputs": [],
   "source": [
    "type(True)"
   ]
  },
  {
   "cell_type": "code",
   "execution_count": null,
   "id": "58b18c40",
   "metadata": {},
   "outputs": [],
   "source": [
    "type(False)"
   ]
  },
  {
   "cell_type": "code",
   "execution_count": null,
   "id": "70b53847",
   "metadata": {},
   "outputs": [],
   "source": [
    "type(\"Hello world\")"
   ]
  },
  {
   "cell_type": "code",
   "execution_count": 9,
   "id": "a0781a7b",
   "metadata": {},
   "outputs": [
    {
     "data": {
      "text/plain": [
       "'HELLO WORLD'"
      ]
     },
     "execution_count": 9,
     "metadata": {},
     "output_type": "execute_result"
    }
   ],
   "source": [
    "\"Hello world\".upper()"
   ]
  },
  {
   "cell_type": "code",
   "execution_count": 10,
   "id": "ae92ed92",
   "metadata": {},
   "outputs": [
    {
     "data": {
      "text/plain": [
       "'Hello World'"
      ]
     },
     "execution_count": 10,
     "metadata": {},
     "output_type": "execute_result"
    }
   ],
   "source": [
    "\"Hello world\".upper()\n",
    "\"Hello world\".lower()\n",
    "\"Hello world\".title()"
   ]
  },
  {
   "cell_type": "code",
   "execution_count": 8,
   "id": "d1e2e1d9",
   "metadata": {
    "scrolled": true
   },
   "outputs": [
    {
     "name": "stdout",
     "output_type": "stream",
     "text": [
      "HELLO WORLD\n",
      "hello world\n",
      "Hello World\n"
     ]
    }
   ],
   "source": [
    "print(\"Hello world\".upper())\n",
    "print(\"Hello world\".lower())\n",
    "print(\"Hello world\".title())"
   ]
  },
  {
   "cell_type": "code",
   "execution_count": 15,
   "id": "e945283a",
   "metadata": {},
   "outputs": [
    {
     "ename": "SyntaxError",
     "evalue": "unexpected EOF while parsing (85164419.py, line 1)",
     "output_type": "error",
     "traceback": [
      "\u001b[1;36m  Input \u001b[1;32mIn [15]\u001b[1;36m\u001b[0m\n\u001b[1;33m    print(\"Hello world\".count('l')\u001b[0m\n\u001b[1;37m                                  ^\u001b[0m\n\u001b[1;31mSyntaxError\u001b[0m\u001b[1;31m:\u001b[0m unexpected EOF while parsing\n"
     ]
    }
   ],
   "source": [
    "print(\"Hello world\".count('l')"
   ]
  },
  {
   "cell_type": "markdown",
   "id": "fa8fbefe",
   "metadata": {},
   "source": [
    "# 3 Variables"
   ]
  },
  {
   "cell_type": "code",
   "execution_count": null,
   "id": "e2748b85",
   "metadata": {},
   "outputs": [],
   "source": []
  },
  {
   "cell_type": "code",
   "execution_count": 3,
   "id": "d83db069",
   "metadata": {},
   "outputs": [],
   "source": [
    "message_1 = 'Im learning Python'"
   ]
  },
  {
   "cell_type": "code",
   "execution_count": 4,
   "id": "5c5b48c9",
   "metadata": {},
   "outputs": [
    {
     "data": {
      "text/plain": [
       "'Im learning Python'"
      ]
     },
     "execution_count": 4,
     "metadata": {},
     "output_type": "execute_result"
    }
   ],
   "source": [
    "message_1"
   ]
  },
  {
   "cell_type": "code",
   "execution_count": 20,
   "id": "c8146938",
   "metadata": {},
   "outputs": [],
   "source": [
    "message_2=\"and it's fun\""
   ]
  },
  {
   "cell_type": "code",
   "execution_count": 18,
   "id": "569299ce",
   "metadata": {},
   "outputs": [
    {
     "data": {
      "text/plain": [
       "'and it´s fun'"
      ]
     },
     "execution_count": 18,
     "metadata": {},
     "output_type": "execute_result"
    }
   ],
   "source": [
    "message_2"
   ]
  },
  {
   "cell_type": "code",
   "execution_count": 21,
   "id": "3a4114fe",
   "metadata": {},
   "outputs": [
    {
     "data": {
      "text/plain": [
       "\"Im learning Pythonand it's fun\""
      ]
     },
     "execution_count": 21,
     "metadata": {},
     "output_type": "execute_result"
    }
   ],
   "source": [
    "message_1 + message_2"
   ]
  },
  {
   "cell_type": "code",
   "execution_count": 22,
   "id": "1982cb3e",
   "metadata": {},
   "outputs": [
    {
     "data": {
      "text/plain": [
       "\"Im learning Python and it's fun\""
      ]
     },
     "execution_count": 22,
     "metadata": {},
     "output_type": "execute_result"
    }
   ],
   "source": [
    "message= message_1 + ' ' + message_2\n",
    "message"
   ]
  },
  {
   "cell_type": "code",
   "execution_count": 25,
   "id": "bfccfcc4",
   "metadata": {},
   "outputs": [
    {
     "data": {
      "text/plain": [
       "\"Im learning Python and it's fun\""
      ]
     },
     "execution_count": 25,
     "metadata": {},
     "output_type": "execute_result"
    }
   ],
   "source": [
    "f'{message_1} {message_2}'"
   ]
  },
  {
   "cell_type": "markdown",
   "id": "8aa04c23",
   "metadata": {},
   "source": [
    "# 4 List\n"
   ]
  },
  {
   "cell_type": "code",
   "execution_count": 26,
   "id": "07fad86f",
   "metadata": {},
   "outputs": [],
   "source": [
    "countries = ['United States', 'India', 'China', 'Brasil']"
   ]
  },
  {
   "cell_type": "code",
   "execution_count": 27,
   "id": "6ee4cff8",
   "metadata": {},
   "outputs": [
    {
     "data": {
      "text/plain": [
       "['United States', 'India', 'China', 'Brasil']"
      ]
     },
     "execution_count": 27,
     "metadata": {},
     "output_type": "execute_result"
    }
   ],
   "source": [
    "countries"
   ]
  },
  {
   "cell_type": "code",
   "execution_count": 31,
   "id": "1b138b34",
   "metadata": {},
   "outputs": [
    {
     "name": "stdout",
     "output_type": "stream",
     "text": [
      "United States\n",
      "China\n"
     ]
    }
   ],
   "source": [
    "print(countries[0])\n",
    "print(countries[2])"
   ]
  },
  {
   "cell_type": "code",
   "execution_count": null,
   "id": "f083ef16",
   "metadata": {},
   "outputs": [],
   "source": [
    "negative index"
   ]
  },
  {
   "cell_type": "code",
   "execution_count": 32,
   "id": "a4d4d47a",
   "metadata": {},
   "outputs": [
    {
     "name": "stdout",
     "output_type": "stream",
     "text": [
      "Brasil\n"
     ]
    }
   ],
   "source": [
    "print(countries[-1])"
   ]
  },
  {
   "cell_type": "code",
   "execution_count": null,
   "id": "c47c78a7",
   "metadata": {},
   "outputs": [],
   "source": [
    "#slicing . means accesing parts of a list. tiene esta forma list_name[start:stop]"
   ]
  },
  {
   "cell_type": "code",
   "execution_count": 33,
   "id": "ea33f46f",
   "metadata": {},
   "outputs": [
    {
     "data": {
      "text/plain": [
       "['United States', 'India', 'China']"
      ]
     },
     "execution_count": 33,
     "metadata": {},
     "output_type": "execute_result"
    }
   ],
   "source": [
    "countries [0:3]"
   ]
  },
  {
   "cell_type": "code",
   "execution_count": 34,
   "id": "ee3ca132",
   "metadata": {},
   "outputs": [
    {
     "data": {
      "text/plain": [
       "['United States']"
      ]
     },
     "execution_count": 34,
     "metadata": {},
     "output_type": "execute_result"
    }
   ],
   "source": [
    "countries [0:1]"
   ]
  },
  {
   "cell_type": "code",
   "execution_count": 35,
   "id": "f333d1b8",
   "metadata": {},
   "outputs": [
    {
     "data": {
      "text/plain": [
       "['India', 'China', 'Brasil']"
      ]
     },
     "execution_count": 35,
     "metadata": {},
     "output_type": "execute_result"
    }
   ],
   "source": [
    "countries [1:4]"
   ]
  },
  {
   "cell_type": "code",
   "execution_count": 39,
   "id": "878e99c9",
   "metadata": {},
   "outputs": [
    {
     "data": {
      "text/plain": [
       "['India', 'China', 'Brasil']"
      ]
     },
     "execution_count": 39,
     "metadata": {},
     "output_type": "execute_result"
    }
   ],
   "source": [
    "countries [1:]"
   ]
  },
  {
   "cell_type": "code",
   "execution_count": 38,
   "id": "53a04a9d",
   "metadata": {},
   "outputs": [
    {
     "data": {
      "text/plain": [
       "['United States', 'India']"
      ]
     },
     "execution_count": 38,
     "metadata": {},
     "output_type": "execute_result"
    }
   ],
   "source": [
    "countries [:2]"
   ]
  },
  {
   "cell_type": "markdown",
   "id": "3cbe2200",
   "metadata": {},
   "source": [
    "# 4.0.1 Agregar elementos a una lista "
   ]
  },
  {
   "cell_type": "code",
   "execution_count": null,
   "id": "0901f779",
   "metadata": {},
   "outputs": [],
   "source": []
  },
  {
   "cell_type": "code",
   "execution_count": null,
   "id": "77a79e24",
   "metadata": {},
   "outputs": [],
   "source": []
  },
  {
   "cell_type": "markdown",
   "id": "460a3761",
   "metadata": {},
   "source": [
    "# 4. 0. 4 actualizar un elemento, update an element"
   ]
  },
  {
   "cell_type": "code",
   "execution_count": null,
   "id": "7431e909",
   "metadata": {},
   "outputs": [],
   "source": []
  },
  {
   "cell_type": "code",
   "execution_count": null,
   "id": "dd0fa8cb",
   "metadata": {},
   "outputs": [],
   "source": []
  },
  {
   "cell_type": "markdown",
   "id": "9092a2d0",
   "metadata": {},
   "source": [
    "# 4. 0. 5 Copiar una  lista\n",
    "\n"
   ]
  },
  {
   "cell_type": "code",
   "execution_count": null,
   "id": "a2420a58",
   "metadata": {},
   "outputs": [],
   "source": []
  },
  {
   "cell_type": "code",
   "execution_count": null,
   "id": "c7617511",
   "metadata": {},
   "outputs": [],
   "source": []
  },
  {
   "cell_type": "code",
   "execution_count": null,
   "id": "a7e41713",
   "metadata": {},
   "outputs": [],
   "source": [
    "# creating an array"
   ]
  },
  {
   "cell_type": "code",
   "execution_count": null,
   "id": "84fb26db",
   "metadata": {},
   "outputs": [],
   "source": [
    "# creating a dataframe"
   ]
  },
  {
   "cell_type": "code",
   "execution_count": null,
   "id": "ccd6edc1",
   "metadata": {},
   "outputs": [],
   "source": [
    "# showing a dataframe "
   ]
  }
 ],
 "metadata": {
  "kernelspec": {
   "display_name": "Python 3 (ipykernel)",
   "language": "python",
   "name": "python3"
  },
  "language_info": {
   "codemirror_mode": {
    "name": "ipython",
    "version": 3
   },
   "file_extension": ".py",
   "mimetype": "text/x-python",
   "name": "python",
   "nbconvert_exporter": "python",
   "pygments_lexer": "ipython3",
   "version": "3.9.12"
  }
 },
 "nbformat": 4,
 "nbformat_minor": 5
}
